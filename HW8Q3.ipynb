{
 "cells": [
  {
   "cell_type": "code",
   "execution_count": 1,
   "id": "5bed4937-7e4a-4a21-9a24-7fa4f5e0107a",
   "metadata": {},
   "outputs": [],
   "source": [
    "import numpy as np\n",
    "def my_fft(x,n):\n",
    "    if (n==1):\n",
    "        return x\n",
    "    wn=np.exp(-2j*np.pi/n)\n",
    "    d=np.array([wn**i for i in range(n//2)])\n",
    "    x_even=x[[2*i for i in range(n//2)]]\n",
    "    x_odd=x[[2*i+1 for i in range(n//2)]]\n",
    "    y_even=my_fft(x_even,n//2)\n",
    "    y_odd=my_fft(x_odd,n//2)\n",
    "    y_odd=np.multiply(d,y_odd)\n",
    "    return np.concatenate([y_even+y_odd, y_even-y_odd])"
   ]
  },
  {
   "cell_type": "code",
   "execution_count": 2,
   "id": "edc5b005-bb9f-4bb9-b981-26f768f98d16",
   "metadata": {},
   "outputs": [
    {
     "data": {
      "text/plain": [
       "8.244106826421393e-15"
      ]
     },
     "execution_count": 2,
     "metadata": {},
     "output_type": "execute_result"
    }
   ],
   "source": [
    "#test correctness\n",
    "test_x=np.random.normal(size=2**5)\n",
    "error=np.fft.fft(test_x)-my_fft(test_x,2**5)\n",
    "np.linalg.norm(error)"
   ]
  },
  {
   "cell_type": "code",
   "execution_count": 3,
   "id": "ac3c0c54-4034-4ea9-a784-a90ff22b0037",
   "metadata": {},
   "outputs": [
    {
     "data": {
      "image/png": "[encoded data removed]",
      "text/plain": [
       "<Figure size 432x288 with 1 Axes>"
      ]
     },
     "metadata": {
      "needs_background": "light"
     },
     "output_type": "display_data"
    }
   ],
   "source": [
    "#test complexity\n",
    "import matplotlib.pyplot as plt\n",
    "import time\n",
    "k=[10,12,14,16]\n",
    "times=[]\n",
    "for e in k:\n",
    "    n=2**e\n",
    "    test_x=np.random.normal(size=n)\n",
    "    start = time.time()\n",
    "    my_fft(test_x,n)\n",
    "    end = time.time()\n",
    "    times.append(end - start)\n",
    "plt.plot([(2**e)*e for e in k ],times)\n",
    "plt.show()"
   ]
  },
  {
   "cell_type": "code",
   "execution_count": null,
   "id": "d62793a0-7722-486a-8fae-ce5e8d5819c0",
   "metadata": {},
   "outputs": [],
   "source": []
  }
 ],
 "metadata": {
  "kernelspec": {
   "display_name": "Python 3",
   "language": "python",
   "name": "python3"
  },
  "language_info": {
   "codemirror_mode": {
    "name": "ipython",
    "version": 3
   },
   "file_extension": ".py",
   "mimetype": "text/x-python",
   "name": "python",
   "nbconvert_exporter": "python",
   "pygments_lexer": "ipython3",
   "version": "3.9.10"
  }
 },
 "nbformat": 4,
 "nbformat_minor": 5
}
